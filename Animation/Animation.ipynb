{
 "cells": [
  {
   "cell_type": "markdown",
   "id": "e2ebefb0",
   "metadata": {},
   "source": [
    "from manim import *\n",
    "\n",
    "class HelloWorld(Scene):\n",
    "   def construct(self):\n",
    "        text = Text(\"Halo, Dunia!\")\n",
    "        self.play(Write(text))\n",
    "        self.wait(2)\n",
    "        \n",
    "HelloWorld().render()\n"
   ]
  },
  {
   "cell_type": "code",
   "execution_count": null,
   "id": "5bf674b8",
   "metadata": {
    "vscode": {
     "languageId": "plaintext"
    }
   },
   "outputs": [],
   "source": []
  },
  {
   "cell_type": "markdown",
   "id": "8d677307",
   "metadata": {},
   "source": []
  }
 ],
 "metadata": {
  "language_info": {
   "name": "python"
  }
 },
 "nbformat": 4,
 "nbformat_minor": 5
}
